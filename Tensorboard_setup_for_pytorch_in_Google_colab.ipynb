{
  "nbformat": 4,
  "nbformat_minor": 0,
  "metadata": {
    "colab": {
      "name": "Tensorboard setup for pytorch in Google colab",
      "provenance": [],
      "include_colab_link": true
    },
    "kernelspec": {
      "name": "python3",
      "display_name": "Python 3"
    }
  },
  "cells": [
    {
      "cell_type": "markdown",
      "metadata": {
        "id": "view-in-github",
        "colab_type": "text"
      },
      "source": [
        "<a href=\"https://colab.research.google.com/github/MicroprocessorX069/Pytorch-basics/blob/master/Tensorboard_setup_for_pytorch_in_Google_colab.ipynb\" target=\"_parent\"><img src=\"https://colab.research.google.com/assets/colab-badge.svg\" alt=\"Open In Colab\"/></a>"
      ]
    },
    {
      "cell_type": "markdown",
      "metadata": {
        "id": "j260RkNiBsVG",
        "colab_type": "text"
      },
      "source": [
        "##setting up tensorboard"
      ]
    },
    {
      "cell_type": "code",
      "metadata": {
        "id": "RhFzpw2rB2j6",
        "colab_type": "code",
        "colab": {}
      },
      "source": [
        "!pip uninstall tensorboard\n",
        "!pip install --force-reinstall tf-nightly-2.0-preview\n",
        "%load_ext tensorboard"
      ],
      "execution_count": 0,
      "outputs": []
    },
    {
      "cell_type": "markdown",
      "metadata": {
        "id": "OU1KsWhdC3v3",
        "colab_type": "text"
      },
      "source": [
        "##Running tensor board in background (for real time)\n",
        "Below 4 cells are optional"
      ]
    },
    {
      "cell_type": "code",
      "metadata": {
        "id": "-gpPwhuNByO0",
        "colab_type": "code",
        "colab": {}
      },
      "source": [
        "!wget https://bin.equinox.io/c/4VmDzA7iaHb/ngrok-stable-linux-amd64.zip\n",
        "!unzip ngrok-stable-linux-amd64.zip"
      ],
      "execution_count": 0,
      "outputs": []
    },
    {
      "cell_type": "code",
      "metadata": {
        "id": "4n1ymR27BvG9",
        "colab_type": "code",
        "colab": {}
      },
      "source": [
        "LOG_DIR = \"./runs\"\n",
        "get_ipython().system_raw(\n",
        "    'tensorboard --logdir {} --host 0.0.0.0 --port 6006 &'\n",
        "    .format(LOG_DIR)\n",
        ")"
      ],
      "execution_count": 0,
      "outputs": []
    },
    {
      "cell_type": "code",
      "metadata": {
        "id": "kTK9ExVDB3Qx",
        "colab_type": "code",
        "colab": {}
      },
      "source": [
        "get_ipython().system_raw('./ngrok http 6006 &')"
      ],
      "execution_count": 0,
      "outputs": []
    },
    {
      "cell_type": "code",
      "metadata": {
        "id": "3KE0a5K0B6Ex",
        "colab_type": "code",
        "outputId": "e968ece5-a48b-40b0-ad99-20f9c9d64cf9",
        "colab": {
          "base_uri": "https://localhost:8080/",
          "height": 34
        }
      },
      "source": [
        "! curl -s http://localhost:4040/api/tunnels | python3 -c \\\n",
        "    \"import sys, json; print(json.load(sys.stdin)['tunnels'][0]['public_url'])\""
      ],
      "execution_count": 0,
      "outputs": [
        {
          "output_type": "stream",
          "text": [
            "https://20551156.ngrok.io\n"
          ],
          "name": "stdout"
        }
      ]
    },
    {
      "cell_type": "markdown",
      "metadata": {
        "id": "JniWNFRlDGqk",
        "colab_type": "text"
      },
      "source": [
        "##main "
      ]
    },
    {
      "cell_type": "code",
      "metadata": {
        "id": "pftntYtDCRzA",
        "colab_type": "code",
        "colab": {}
      },
      "source": [
        "## Source : https://pytorch.org/docs/stable/tensorboard.html\n",
        "import torch\n",
        "import torchvision\n",
        "from torch.utils.tensorboard import SummaryWriter\n",
        "from torchvision import datasets, transforms\n",
        "\n",
        "# Writer will output to ./runs/ directory by default\n",
        "writer = SummaryWriter()\n",
        "\n",
        "transform = transforms.Compose([transforms.ToTensor(), transforms.Normalize((0.5,), (0.5,))])\n",
        "trainset = datasets.MNIST('mnist_train', train=True, download=True, transform=transform)\n",
        "trainloader = torch.utils.data.DataLoader(trainset, batch_size=64, shuffle=True)\n",
        "model = torchvision.models.resnet50(False)\n",
        "# Have ResNet model take in grayscale rather than RGB\n",
        "model.conv1 = torch.nn.Conv2d(1, 64, kernel_size=7, stride=2, padding=3, bias=False)\n",
        "images, labels = next(iter(trainloader))\n",
        "\n",
        "grid = torchvision.utils.make_grid(images)\n",
        "writer.add_image('images', grid, 0)\n",
        "writer.add_graph(model, images)\n",
        "writer.close()"
      ],
      "execution_count": 0,
      "outputs": []
    }
  ]
}